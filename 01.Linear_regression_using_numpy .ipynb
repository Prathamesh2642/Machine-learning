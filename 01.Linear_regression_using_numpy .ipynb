{
 "cells": [
  {
   "cell_type": "code",
   "execution_count": 1,
   "id": "32d8a680",
   "metadata": {},
   "outputs": [],
   "source": [
    "import numpy as np\n",
    "import pandas as pd\n",
    "import matplotlib.pyplot as plt\n"
   ]
  },
  {
   "cell_type": "code",
   "execution_count": 12,
   "id": "b1b39bc8",
   "metadata": {},
   "outputs": [],
   "source": [
    "x=10*np.random.rand(100)"
   ]
  },
  {
   "cell_type": "code",
   "execution_count": 13,
   "id": "552666be",
   "metadata": {},
   "outputs": [
    {
     "data": {
      "text/plain": [
       "array([1.60372580e+00, 9.88891342e-02, 8.67509743e+00, 6.25348070e+00,\n",
       "       7.20062932e+00, 4.56845129e+00, 5.27015184e+00, 1.06577675e+00,\n",
       "       3.86908729e+00, 3.26119026e+00, 7.05899307e+00, 4.33636112e+00,\n",
       "       2.32386672e-02, 1.00497206e+00, 6.64352082e+00, 6.82805545e+00,\n",
       "       3.00404608e+00, 7.65648604e+00, 9.20778699e+00, 1.33084302e+00,\n",
       "       8.04881557e+00, 5.98389099e-01, 2.41190028e+00, 6.76996331e+00,\n",
       "       3.13525605e+00, 3.02654598e+00, 5.80171504e+00, 5.84489860e+00,\n",
       "       6.77999081e+00, 3.55195031e+00, 3.02264228e+00, 1.07419245e+00,\n",
       "       7.27248517e+00, 1.91331545e+00, 3.37978807e+00, 4.05200953e+00,\n",
       "       1.63446506e+00, 1.23913006e+00, 2.21331522e+00, 8.65583598e-01,\n",
       "       5.21637376e+00, 4.85382998e+00, 2.80461231e+00, 9.26790157e+00,\n",
       "       6.24226522e+00, 2.56970104e+00, 1.56458870e+00, 5.40100070e+00,\n",
       "       9.13091169e+00, 6.60351107e+00, 4.50856553e-02, 7.59110022e+00,\n",
       "       6.01079709e+00, 6.84190752e+00, 4.18007376e+00, 4.37275884e+00,\n",
       "       4.43710380e+00, 9.30252902e-01, 3.86370642e-01, 2.29905470e+00,\n",
       "       7.87208382e+00, 7.69455725e+00, 9.64213053e+00, 6.59856961e-02,\n",
       "       7.16988717e+00, 9.94589786e+00, 8.78370896e-01, 2.29838847e+00,\n",
       "       5.10022095e-01, 8.62306613e+00, 2.40874652e+00, 3.56232699e+00,\n",
       "       9.43711345e+00, 9.28161667e+00, 8.77746225e+00, 6.87473528e+00,\n",
       "       7.97507542e+00, 3.58744735e+00, 3.94705665e+00, 7.93323308e+00,\n",
       "       6.42308597e+00, 8.37609159e+00, 5.21884539e+00, 4.86490303e+00,\n",
       "       3.04792352e-01, 1.17074153e+00, 7.71067988e+00, 3.36968134e+00,\n",
       "       3.21270052e+00, 2.93178327e+00, 4.73226027e+00, 7.28307134e+00,\n",
       "       2.82470315e-03, 5.80370282e+00, 4.70915821e+00, 4.91504618e+00,\n",
       "       1.48878455e-01, 8.08964040e+00, 6.75426372e+00, 6.34013309e+00])"
      ]
     },
     "execution_count": 13,
     "metadata": {},
     "output_type": "execute_result"
    }
   ],
   "source": [
    "x"
   ]
  },
  {
   "cell_type": "code",
   "execution_count": 14,
   "id": "56e07f8a",
   "metadata": {},
   "outputs": [
    {
     "data": {
      "text/plain": [
       "array([ 3.96563306e+00, -2.13104483e+00,  2.68582497e+01,  2.05613899e+01,\n",
       "        2.33202805e+01,  1.38106883e+01,  1.67283980e+01,  1.47340945e+00,\n",
       "        1.20766454e+01,  9.49997923e+00,  2.15250371e+01,  1.25084983e+01,\n",
       "        1.92613689e+00,  2.85787572e+00,  1.93607510e+01,  1.99976963e+01,\n",
       "        8.38150119e+00,  2.27262446e+01,  2.83295178e+01,  4.14593988e+00,\n",
       "        2.43632311e+01,  1.68587716e+00,  7.84052810e+00,  1.92785209e+01,\n",
       "        9.48300689e+00,  9.43208862e+00,  1.68816625e+01,  1.73730426e+01,\n",
       "        2.05440029e+01,  1.01629215e+01,  7.79964251e+00,  5.17881384e+00,\n",
       "        2.13312057e+01,  4.50978129e+00,  1.10451459e+01,  1.25336256e+01,\n",
       "        4.10416191e+00,  2.76816151e+00,  7.27400540e+00,  2.76865133e+00,\n",
       "        1.65474891e+01,  1.57320309e+01,  7.70730762e+00,  2.78272530e+01,\n",
       "        1.99291815e+01,  8.18039321e+00,  6.38228942e+00,  1.57651250e+01,\n",
       "        2.77541849e+01,  1.98059263e+01,  1.33594566e+00,  2.11337535e+01,\n",
       "        1.84748369e+01,  2.10371693e+01,  1.37041033e+01,  1.37063975e+01,\n",
       "        1.44822139e+01,  2.74706225e+00, -2.49844567e-01,  5.98721234e+00,\n",
       "        2.41682325e+01,  2.51829168e+01,  2.84062635e+01,  8.54927577e-01,\n",
       "        2.25948586e+01,  2.95964350e+01,  3.37383142e+00,  5.60382161e+00,\n",
       "        1.14337681e-03,  2.60497925e+01,  5.81039082e+00,  1.08237087e+01,\n",
       "        3.03107110e+01,  2.70940227e+01,  2.59880612e+01,  2.20397037e+01,\n",
       "        2.45999635e+01,  1.09447926e+01,  1.25555190e+01,  2.38844596e+01,\n",
       "        1.90811301e+01,  2.72852235e+01,  1.65303007e+01,  1.33539191e+01,\n",
       "       -3.21696822e-01,  3.34295550e+00,  2.29650002e+01,  1.09086760e+01,\n",
       "        9.86857786e+00,  8.84947745e+00,  1.55329741e+01,  2.00696978e+01,\n",
       "       -2.74376121e-01,  1.59477842e+01,  1.60546426e+01,  1.40207087e+01,\n",
       "        1.11715581e+00,  2.45333959e+01,  2.03713098e+01,  1.74715452e+01])"
      ]
     },
     "execution_count": 14,
     "metadata": {},
     "output_type": "execute_result"
    }
   ],
   "source": [
    "y=3*x+np.random.randn(100)\n",
    "y"
   ]
  },
  {
   "cell_type": "code",
   "execution_count": 15,
   "id": "20027705",
   "metadata": {},
   "outputs": [
    {
     "data": {
      "text/plain": [
       "<matplotlib.collections.PathCollection at 0x22b3fdcead0>"
      ]
     },
     "execution_count": 15,
     "metadata": {},
     "output_type": "execute_result"
    },
    {
     "data": {
      "image/png": "[encoded data removed]",
      "text/plain": [
       "<Figure size 640x480 with 1 Axes>"
      ]
     },
     "metadata": {},
     "output_type": "display_data"
    }
   ],
   "source": [
    "plt.scatter(x,y)"
   ]
  },
  {
   "cell_type": "code",
   "execution_count": 16,
   "id": "13cdca0f",
   "metadata": {},
   "outputs": [],
   "source": [
    "from sklearn.linear_model import LinearRegression"
   ]
  },
  {
   "cell_type": "code",
   "execution_count": 18,
   "id": "df239f1b",
   "metadata": {},
   "outputs": [],
   "source": [
    "reg=LinearRegression(fit_intercept=True)"
   ]
  },
  {
   "cell_type": "code",
   "execution_count": 19,
   "id": "79d40b91",
   "metadata": {},
   "outputs": [
    {
     "data": {
      "text/html": [
       "<style>#sk-container-id-1 {color: black;background-color: white;}#sk-container-id-1 pre{padding: 0;}#sk-container-id-1 div.sk-toggleable {background-color: white;}#sk-container-id-1 label.sk-toggleable__label {cursor: pointer;display: block;width: 100%;margin-bottom: 0;padding: 0.3em;box-sizing: border-box;text-align: center;}#sk-container-id-1 label.sk-toggleable__label-arrow:before {content: \"▸\";float: left;margin-right: 0.25em;color: #696969;}#sk-container-id-1 label.sk-toggleable__label-arrow:hover:before {color: black;}#sk-container-id-1 div.sk-estimator:hover label.sk-toggleable__label-arrow:before {color: black;}#sk-container-id-1 div.sk-toggleable__content {max-height: 0;max-width: 0;overflow: hidden;text-align: left;background-color: #f0f8ff;}#sk-container-id-1 div.sk-toggleable__content pre {margin: 0.2em;color: black;border-radius: 0.25em;background-color: #f0f8ff;}#sk-container-id-1 input.sk-toggleable__control:checked~div.sk-toggleable__content {max-height: 200px;max-width: 100%;overflow: auto;}#sk-container-id-1 input.sk-toggleable__control:checked~label.sk-toggleable__label-arrow:before {content: \"▾\";}#sk-container-id-1 div.sk-estimator input.sk-toggleable__control:checked~label.sk-toggleable__label {background-color: #d4ebff;}#sk-container-id-1 div.sk-label input.sk-toggleable__control:checked~label.sk-toggleable__label {background-color: #d4ebff;}#sk-container-id-1 input.sk-hidden--visually {border: 0;clip: rect(1px 1px 1px 1px);clip: rect(1px, 1px, 1px, 1px);height: 1px;margin: -1px;overflow: hidden;padding: 0;position: absolute;width: 1px;}#sk-container-id-1 div.sk-estimator {font-family: monospace;background-color: #f0f8ff;border: 1px dotted black;border-radius: 0.25em;box-sizing: border-box;margin-bottom: 0.5em;}#sk-container-id-1 div.sk-estimator:hover {background-color: #d4ebff;}#sk-container-id-1 div.sk-parallel-item::after {content: \"\";width: 100%;border-bottom: 1px solid gray;flex-grow: 1;}#sk-container-id-1 div.sk-label:hover label.sk-toggleable__label {background-color: #d4ebff;}#sk-container-id-1 div.sk-serial::before {content: \"\";position: absolute;border-left: 1px solid gray;box-sizing: border-box;top: 0;bottom: 0;left: 50%;z-index: 0;}#sk-container-id-1 div.sk-serial {display: flex;flex-direction: column;align-items: center;background-color: white;padding-right: 0.2em;padding-left: 0.2em;position: relative;}#sk-container-id-1 div.sk-item {position: relative;z-index: 1;}#sk-container-id-1 div.sk-parallel {display: flex;align-items: stretch;justify-content: center;background-color: white;position: relative;}#sk-container-id-1 div.sk-item::before, #sk-container-id-1 div.sk-parallel-item::before {content: \"\";position: absolute;border-left: 1px solid gray;box-sizing: border-box;top: 0;bottom: 0;left: 50%;z-index: -1;}#sk-container-id-1 div.sk-parallel-item {display: flex;flex-direction: column;z-index: 1;position: relative;background-color: white;}#sk-container-id-1 div.sk-parallel-item:first-child::after {align-self: flex-end;width: 50%;}#sk-container-id-1 div.sk-parallel-item:last-child::after {align-self: flex-start;width: 50%;}#sk-container-id-1 div.sk-parallel-item:only-child::after {width: 0;}#sk-container-id-1 div.sk-dashed-wrapped {border: 1px dashed gray;margin: 0 0.4em 0.5em 0.4em;box-sizing: border-box;padding-bottom: 0.4em;background-color: white;}#sk-container-id-1 div.sk-label label {font-family: monospace;font-weight: bold;display: inline-block;line-height: 1.2em;}#sk-container-id-1 div.sk-label-container {text-align: center;}#sk-container-id-1 div.sk-container {/* jupyter's `normalize.less` sets `[hidden] { display: none; }` but bootstrap.min.css set `[hidden] { display: none !important; }` so we also need the `!important` here to be able to override the default hidden behavior on the sphinx rendered scikit-learn.org. See: https://github.com/scikit-learn/scikit-learn/issues/21755 */display: inline-block !important;position: relative;}#sk-container-id-1 div.sk-text-repr-fallback {display: none;}</style><div id=\"sk-container-id-1\" class=\"sk-top-container\"><div class=\"sk-text-repr-fallback\"><pre>LinearRegression()</pre><b>In a Jupyter environment, please rerun this cell to show the HTML representation or trust the notebook. <br />On GitHub, the HTML representation is unable to render, please try loading this page with nbviewer.org.</b></div><div class=\"sk-container\" hidden><div class=\"sk-item\"><div class=\"sk-estimator sk-toggleable\"><input class=\"sk-toggleable__control sk-hidden--visually\" id=\"sk-estimator-id-1\" type=\"checkbox\" checked><label for=\"sk-estimator-id-1\" class=\"sk-toggleable__label sk-toggleable__label-arrow\">LinearRegression</label><div class=\"sk-toggleable__content\"><pre>LinearRegression()</pre></div></div></div></div></div>"
      ],
      "text/plain": [
       "LinearRegression()"
      ]
     },
     "execution_count": 19,
     "metadata": {},
     "output_type": "execute_result"
    }
   ],
   "source": [
    "reg"
   ]
  },
  {
   "cell_type": "code",
   "execution_count": 22,
   "id": "ee60ab8b",
   "metadata": {},
   "outputs": [
    {
     "data": {
      "text/plain": [
       "(100, 1)"
      ]
     },
     "execution_count": 22,
     "metadata": {},
     "output_type": "execute_result"
    }
   ],
   "source": [
    "x=x.reshape(-1,1)\n",
    "x.shape"
   ]
  },
  {
   "cell_type": "code",
   "execution_count": 23,
   "id": "91040aa5",
   "metadata": {},
   "outputs": [
    {
     "data": {
      "text/html": [
       "<style>#sk-container-id-2 {color: black;background-color: white;}#sk-container-id-2 pre{padding: 0;}#sk-container-id-2 div.sk-toggleable {background-color: white;}#sk-container-id-2 label.sk-toggleable__label {cursor: pointer;display: block;width: 100%;margin-bottom: 0;padding: 0.3em;box-sizing: border-box;text-align: center;}#sk-container-id-2 label.sk-toggleable__label-arrow:before {content: \"▸\";float: left;margin-right: 0.25em;color: #696969;}#sk-container-id-2 label.sk-toggleable__label-arrow:hover:before {color: black;}#sk-container-id-2 div.sk-estimator:hover label.sk-toggleable__label-arrow:before {color: black;}#sk-container-id-2 div.sk-toggleable__content {max-height: 0;max-width: 0;overflow: hidden;text-align: left;background-color: #f0f8ff;}#sk-container-id-2 div.sk-toggleable__content pre {margin: 0.2em;color: black;border-radius: 0.25em;background-color: #f0f8ff;}#sk-container-id-2 input.sk-toggleable__control:checked~div.sk-toggleable__content {max-height: 200px;max-width: 100%;overflow: auto;}#sk-container-id-2 input.sk-toggleable__control:checked~label.sk-toggleable__label-arrow:before {content: \"▾\";}#sk-container-id-2 div.sk-estimator input.sk-toggleable__control:checked~label.sk-toggleable__label {background-color: #d4ebff;}#sk-container-id-2 div.sk-label input.sk-toggleable__control:checked~label.sk-toggleable__label {background-color: #d4ebff;}#sk-container-id-2 input.sk-hidden--visually {border: 0;clip: rect(1px 1px 1px 1px);clip: rect(1px, 1px, 1px, 1px);height: 1px;margin: -1px;overflow: hidden;padding: 0;position: absolute;width: 1px;}#sk-container-id-2 div.sk-estimator {font-family: monospace;background-color: #f0f8ff;border: 1px dotted black;border-radius: 0.25em;box-sizing: border-box;margin-bottom: 0.5em;}#sk-container-id-2 div.sk-estimator:hover {background-color: #d4ebff;}#sk-container-id-2 div.sk-parallel-item::after {content: \"\";width: 100%;border-bottom: 1px solid gray;flex-grow: 1;}#sk-container-id-2 div.sk-label:hover label.sk-toggleable__label {background-color: #d4ebff;}#sk-container-id-2 div.sk-serial::before {content: \"\";position: absolute;border-left: 1px solid gray;box-sizing: border-box;top: 0;bottom: 0;left: 50%;z-index: 0;}#sk-container-id-2 div.sk-serial {display: flex;flex-direction: column;align-items: center;background-color: white;padding-right: 0.2em;padding-left: 0.2em;position: relative;}#sk-container-id-2 div.sk-item {position: relative;z-index: 1;}#sk-container-id-2 div.sk-parallel {display: flex;align-items: stretch;justify-content: center;background-color: white;position: relative;}#sk-container-id-2 div.sk-item::before, #sk-container-id-2 div.sk-parallel-item::before {content: \"\";position: absolute;border-left: 1px solid gray;box-sizing: border-box;top: 0;bottom: 0;left: 50%;z-index: -1;}#sk-container-id-2 div.sk-parallel-item {display: flex;flex-direction: column;z-index: 1;position: relative;background-color: white;}#sk-container-id-2 div.sk-parallel-item:first-child::after {align-self: flex-end;width: 50%;}#sk-container-id-2 div.sk-parallel-item:last-child::after {align-self: flex-start;width: 50%;}#sk-container-id-2 div.sk-parallel-item:only-child::after {width: 0;}#sk-container-id-2 div.sk-dashed-wrapped {border: 1px dashed gray;margin: 0 0.4em 0.5em 0.4em;box-sizing: border-box;padding-bottom: 0.4em;background-color: white;}#sk-container-id-2 div.sk-label label {font-family: monospace;font-weight: bold;display: inline-block;line-height: 1.2em;}#sk-container-id-2 div.sk-label-container {text-align: center;}#sk-container-id-2 div.sk-container {/* jupyter's `normalize.less` sets `[hidden] { display: none; }` but bootstrap.min.css set `[hidden] { display: none !important; }` so we also need the `!important` here to be able to override the default hidden behavior on the sphinx rendered scikit-learn.org. See: https://github.com/scikit-learn/scikit-learn/issues/21755 */display: inline-block !important;position: relative;}#sk-container-id-2 div.sk-text-repr-fallback {display: none;}</style><div id=\"sk-container-id-2\" class=\"sk-top-container\"><div class=\"sk-text-repr-fallback\"><pre>LinearRegression()</pre><b>In a Jupyter environment, please rerun this cell to show the HTML representation or trust the notebook. <br />On GitHub, the HTML representation is unable to render, please try loading this page with nbviewer.org.</b></div><div class=\"sk-container\" hidden><div class=\"sk-item\"><div class=\"sk-estimator sk-toggleable\"><input class=\"sk-toggleable__control sk-hidden--visually\" id=\"sk-estimator-id-2\" type=\"checkbox\" checked><label for=\"sk-estimator-id-2\" class=\"sk-toggleable__label sk-toggleable__label-arrow\">LinearRegression</label><div class=\"sk-toggleable__content\"><pre>LinearRegression()</pre></div></div></div></div></div>"
      ],
      "text/plain": [
       "LinearRegression()"
      ]
     },
     "execution_count": 23,
     "metadata": {},
     "output_type": "execute_result"
    }
   ],
   "source": [
    "reg.fit(x,y)"
   ]
  },
  {
   "cell_type": "code",
   "execution_count": 24,
   "id": "0b20d399",
   "metadata": {},
   "outputs": [
    {
     "data": {
      "text/plain": [
       "array([3.05631951])"
      ]
     },
     "execution_count": 24,
     "metadata": {},
     "output_type": "execute_result"
    }
   ],
   "source": [
    "reg.coef_"
   ]
  },
  {
   "cell_type": "code",
   "execution_count": 25,
   "id": "bb78bfb4",
   "metadata": {},
   "outputs": [
    {
     "data": {
      "text/plain": [
       "-0.16805427162607423"
      ]
     },
     "execution_count": 25,
     "metadata": {},
     "output_type": "execute_result"
    }
   ],
   "source": [
    "reg.intercept_"
   ]
  },
  {
   "cell_type": "code",
   "execution_count": 28,
   "id": "0a986a2f",
   "metadata": {},
   "outputs": [],
   "source": [
    "z_test=np.linspace(-1,11).reshape(-1,1)"
   ]
  },
  {
   "cell_type": "code",
   "execution_count": 29,
   "id": "8a38276a",
   "metadata": {},
   "outputs": [],
   "source": [
    "z_res=reg.predict(z_test)"
   ]
  },
  {
   "cell_type": "code",
   "execution_count": 34,
   "id": "568c1f49",
   "metadata": {},
   "outputs": [
    {
     "data": {
      "text/plain": [
       "[<matplotlib.lines.Line2D at 0x22b5ad19f90>]"
      ]
     },
     "execution_count": 34,
     "metadata": {},
     "output_type": "execute_result"
    },
    {
     "data": {
      "image/png": "[encoded data removed]",
      "text/plain": [
       "<Figure size 640x480 with 1 Axes>"
      ]
     },
     "metadata": {},
     "output_type": "display_data"
    }
   ],
   "source": [
    "plt.scatter(x,y)\n",
    "plt.plot(z_test,z_res)"
   ]
  }
 ],
 "metadata": {
  "kernelspec": {
   "display_name": "Python 3 (ipykernel)",
   "language": "python",
   "name": "python3"
  },
  "language_info": {
   "codemirror_mode": {
    "name": "ipython",
    "version": 3
   },
   "file_extension": ".py",
   "mimetype": "text/x-python",
   "name": "python",
   "nbconvert_exporter": "python",
   "pygments_lexer": "ipython3",
   "version": "3.11.3"
  }
 },
 "nbformat": 4,
 "nbformat_minor": 5
}
